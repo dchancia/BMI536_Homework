{
  "nbformat": 4,
  "nbformat_minor": 0,
  "metadata": {
    "colab": {
      "provenance": [],
      "collapsed_sections": []
    },
    "kernelspec": {
      "name": "python3",
      "display_name": "Python 3"
    },
    "language_info": {
      "name": "python"
    }
  },
  "cells": [
    {
      "cell_type": "markdown",
      "source": [
        "## Problem 2"
      ],
      "metadata": {
        "id": "ho_Ec3JSCamM"
      }
    },
    {
      "cell_type": "markdown",
      "source": [
        "### Part a"
      ],
      "metadata": {
        "id": "DeobFdE_Cg40"
      }
    },
    {
      "cell_type": "code",
      "source": [
        "# Import libraries and packages\n",
        "import numpy as np\n",
        "import matplotlib.pyplot as plt"
      ],
      "metadata": {
        "id": "GO04qhlUCfiN"
      },
      "execution_count": null,
      "outputs": []
    },
    {
      "cell_type": "code",
      "source": [
        "# Define gradient of function f\n",
        "def grad_f (x, y):\n",
        "  return np.array([[((4 / 3) * (x ** 3)) + (4 * x) - (4 * y ** 2)], \n",
        "                   [(2 * (y ** 3)) + (4 * y) - (8 * x * y)]])"
      ],
      "metadata": {
        "id": "Ngn10yqqEs9Q"
      },
      "execution_count": null,
      "outputs": []
    },
    {
      "cell_type": "code",
      "source": [
        "# Implement gradient descent\n",
        "def grad_desc (x, y, n, lr):\n",
        "  minima = np.array([[x], [y]])\n",
        "  for i in range(n):\n",
        "    minima = minima - lr * grad_f(minima[0][0], minima[1][0])\n",
        "  return minima"
      ],
      "metadata": {
        "id": "hpzytmV8GWjz"
      },
      "execution_count": null,
      "outputs": []
    },
    {
      "cell_type": "markdown",
      "source": [
        "### Part b"
      ],
      "metadata": {
        "id": "OydguL0tJaqG"
      }
    },
    {
      "cell_type": "code",
      "source": [
        "# Define variables\n",
        "lr = 10 ** -3\n",
        "n = 10 ** 6\n",
        "tr = 10 ** -6\n",
        "\n",
        "# Define function to check condition\n",
        "def cond(x0, y0, x_min, y_min, n, lr, tr):\n",
        "  approx = grad_desc (x0, y0, n, lr)\n",
        "  diff = abs(approx[0][0] - x_min) + abs(approx[1][0] - y_min)\n",
        "  if diff < tr:\n",
        "    msg = 'The point (' + str(x0) + ', ' + str(y0) + ') converges to local minima (' + str(x_min) + ', ' + str(y_min) + ').'\n",
        "  else:\n",
        "    msg = 'The point (' + str(x0) + ', ' + str(y0) + ') does NOT converge to local minima (' + str(x_min) + ', ' + str(y_min) + ').'\n",
        "  return msg"
      ],
      "metadata": {
        "id": "3piVe9JtDS72"
      },
      "execution_count": null,
      "outputs": []
    },
    {
      "cell_type": "code",
      "source": [
        "# Try for each local minima\n",
        "\n",
        "x0, y0, x_min, y_min,  = -6, -1, 0, 0\n",
        "print(cond(x0, y0, x_min, y_min, n, lr, tr))\n",
        "\n",
        "x0, y0, x_min, y_min,  = 4, 5, 2.5842254, 2.8873693\n",
        "print(cond(x0, y0, x_min, y_min, n, lr, tr))\n",
        "\n",
        "x0, y0, x_min, y_min,  = 10, -12, 2.5842254, -2.8873693\n",
        "print(cond(x0, y0, x_min, y_min, n, lr, tr))"
      ],
      "metadata": {
        "colab": {
          "base_uri": "https://localhost:8080/"
        },
        "id": "nRLcnkCgPjGn",
        "outputId": "19d5aa5d-18bf-4c0c-cd38-3553496a9b41"
      },
      "execution_count": null,
      "outputs": [
        {
          "output_type": "stream",
          "name": "stdout",
          "text": [
            "The point (-6, -1) converges to local minima (0, 0).\n",
            "The point (4, 5) converges to local minima (2.5842254, 2.8873693).\n",
            "The point (10, -12) converges to local minima (2.5842254, -2.8873693).\n"
          ]
        }
      ]
    },
    {
      "cell_type": "code",
      "source": [
        "# Find values of (x0, y0) that do not converge to a local minima\n",
        "\n",
        "x0, y0, x_min, y_min,  = 0.705, 0.907, 0, 0\n",
        "print(cond(x0, y0, x_min, y_min, n, lr, tr))\n",
        "\n",
        "'''I could not find any values of (x0, y0) that do not converge to a local minima'''"
      ],
      "metadata": {
        "colab": {
          "base_uri": "https://localhost:8080/",
          "height": 55
        },
        "id": "50zda2z-Qasu",
        "outputId": "02bbee23-6da4-4806-b07c-f4fb36883482"
      },
      "execution_count": null,
      "outputs": [
        {
          "output_type": "stream",
          "name": "stdout",
          "text": [
            "The point (0.705, 0.907) converges to local minima (0, 0).\n"
          ]
        },
        {
          "output_type": "execute_result",
          "data": {
            "text/plain": [
              "'I could not find any values of (x0, y0) that do not converge to a local minima'"
            ],
            "application/vnd.google.colaboratory.intrinsic+json": {
              "type": "string"
            }
          },
          "metadata": {},
          "execution_count": 6
        }
      ]
    },
    {
      "cell_type": "markdown",
      "source": [
        "### Part c"
      ],
      "metadata": {
        "id": "-JQwYDj6XnVN"
      }
    },
    {
      "cell_type": "code",
      "source": [
        "# Define function g for local minima (0,0)\n",
        "\n",
        "def g (x, y, lr):\n",
        "  x_min = 0\n",
        "  y_min = 0\n",
        "  error = 1\n",
        "  n = 0\n",
        "  minima = np.array([[x], [y]])\n",
        "  while (error > 10 ** -6 and n < 10 ** 6):\n",
        "    minima = minima - lr * grad_f(minima[0][0], minima[1][0])\n",
        "    error = abs(minima[0][0] - x_min) + abs(minima[1][0] - y_min)\n",
        "    n += 1\n",
        "  return n\n",
        "\n",
        "# Define function h(lr)\n",
        "\n",
        "def h (lr):\n",
        "  accum = 0  \n",
        "  for i in range(-5, 6):\n",
        "    for j in range(-5, 6):\n",
        "      accum += g(i, j, lr)\n",
        "  return (1 / (11 * 11)) * accum"
      ],
      "metadata": {
        "id": "ZZRoEE2NXrNQ"
      },
      "execution_count": null,
      "outputs": []
    },
    {
      "cell_type": "code",
      "source": [
        "# Find values for the plot\n",
        "\n",
        "lr = list(np.linspace(10 ** -4, 10 ** -2, 20))\n",
        "h_lr = []\n",
        "\n",
        "for value in lr:\n",
        "  h_lr.append(h(value))"
      ],
      "metadata": {
        "id": "D5ooldBzLRxo"
      },
      "execution_count": null,
      "outputs": []
    },
    {
      "cell_type": "code",
      "source": [
        "# Plot results\n",
        "\n",
        "plt.figure()\n",
        "plt.plot(lr, h_lr)\n",
        "plt.xlabel('lr')\n",
        "plt.ylabel('h(lr)')\n",
        "plt.title('Plot 2C')\n",
        "plt.show()"
      ],
      "metadata": {
        "colab": {
          "base_uri": "https://localhost:8080/",
          "height": 295
        },
        "id": "uHmoo753PIdq",
        "outputId": "02355015-0c14-430f-f333-6b0164684b0e"
      },
      "execution_count": null,
      "outputs": [
        {
          "output_type": "display_data",
          "data": {
            "text/plain": [
              "<Figure size 432x288 with 1 Axes>"
            ],
            "image/png": "[encoded data removed]"
          },
          "metadata": {
            "needs_background": "light"
          }
        }
      ]
    },
    {
      "cell_type": "code",
      "source": [],
      "metadata": {
        "id": "H-9knYO5VW2K"
      },
      "execution_count": null,
      "outputs": []
    }
  ]
}